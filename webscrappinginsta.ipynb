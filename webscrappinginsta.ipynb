{
 "cells": [
  {
   "cell_type": "code",
   "execution_count": 10,
   "id": "007be664-c998-4ee6-9c87-e2e9025094b6",
   "metadata": {},
   "outputs": [
    {
     "name": "stdout",
     "output_type": "stream",
     "text": [
      "Collecting webdriver-manager\n",
      "  Downloading webdriver_manager-4.0.2-py2.py3-none-any.whl.metadata (12 kB)\n",
      "Requirement already satisfied: requests in c:\\users\\avishi\\appdata\\local\\programs\\python\\python312\\lib\\site-packages (from webdriver-manager) (2.32.3)\n",
      "Collecting python-dotenv (from webdriver-manager)\n",
      "  Using cached python_dotenv-1.1.1-py3-none-any.whl.metadata (24 kB)\n",
      "Requirement already satisfied: packaging in c:\\users\\avishi\\appdata\\local\\programs\\python\\python312\\lib\\site-packages (from webdriver-manager) (24.2)\n",
      "Requirement already satisfied: charset-normalizer<4,>=2 in c:\\users\\avishi\\appdata\\local\\programs\\python\\python312\\lib\\site-packages (from requests->webdriver-manager) (3.4.1)\n",
      "Requirement already satisfied: idna<4,>=2.5 in c:\\users\\avishi\\appdata\\local\\programs\\python\\python312\\lib\\site-packages (from requests->webdriver-manager) (3.10)\n",
      "Requirement already satisfied: urllib3<3,>=1.21.1 in c:\\users\\avishi\\appdata\\local\\programs\\python\\python312\\lib\\site-packages (from requests->webdriver-manager) (2.5.0)\n",
      "Requirement already satisfied: certifi>=2017.4.17 in c:\\users\\avishi\\appdata\\local\\programs\\python\\python312\\lib\\site-packages (from requests->webdriver-manager) (2025.8.3)\n",
      "Downloading webdriver_manager-4.0.2-py2.py3-none-any.whl (27 kB)\n",
      "Downloading python_dotenv-1.1.1-py3-none-any.whl (20 kB)\n",
      "Installing collected packages: python-dotenv, webdriver-manager\n",
      "\n",
      "   ---------------------------------------- 0/2 [python-dotenv]\n",
      "   ---------------------------------------- 0/2 [python-dotenv]\n",
      "   -------------------- ------------------- 1/2 [webdriver-manager]\n",
      "   -------------------- ------------------- 1/2 [webdriver-manager]\n",
      "   -------------------- ------------------- 1/2 [webdriver-manager]\n",
      "   -------------------- ------------------- 1/2 [webdriver-manager]\n",
      "   ---------------------------------------- 2/2 [webdriver-manager]\n",
      "\n",
      "Successfully installed python-dotenv-1.1.1 webdriver-manager-4.0.2\n",
      "Note: you may need to restart the kernel to use updated packages.\n"
     ]
    }
   ],
   "source": [
    "pip install webdriver-manager\n"
   ]
  },
  {
   "cell_type": "code",
   "execution_count": 24,
   "id": "4b46c91c-bb2f-4867-8bc2-0e4e2c44e310",
   "metadata": {},
   "outputs": [],
   "source": [
    "#Selenium imports here\n",
    "from selenium import webdriver\n",
    "from selenium.webdriver.common.keys import Keys\n",
    "from selenium.webdriver.support import expected_conditions as EC\n",
    "from selenium.webdriver.common.by import By\n",
    "from selenium.webdriver.support.wait import WebDriverWait\n",
    "\n"
   ]
  },
  {
   "cell_type": "code",
   "execution_count": 25,
   "id": "b9f67a31-d6dc-4d8e-9c17-d5efff8c5191",
   "metadata": {},
   "outputs": [],
   "source": [
    "#Other imports here\n",
    "import os\n",
    "import wget"
   ]
  },
  {
   "cell_type": "code",
   "execution_count": null,
   "id": "aed8ec97-1a2f-4ff2-9113-2aefe105cb5d",
   "metadata": {},
   "outputs": [],
   "source": [
    "#first method to get web driver work "
   ]
  },
  {
   "cell_type": "code",
   "execution_count": 26,
   "id": "a1a69196-025e-4005-8eb6-2197c9487e6a",
   "metadata": {},
   "outputs": [],
   "source": [
    "from selenium import webdriver\n",
    "from selenium.webdriver.chrome.service import Service\n",
    "from selenium.webdriver.chrome.options import Options\n",
    "from webdriver_manager.chrome import ChromeDriverManager  # install this\n",
    "\n",
    "options = Options()\n",
    "options.add_argument(\"--start-maximized\")\n",
    "\n",
    "driver = webdriver.Chrome(service=Service(ChromeDriverManager().install()), options=options)\n",
    "driver.get(\"https://www.instagram.com\")\n"
   ]
  },
  {
   "cell_type": "code",
   "execution_count": 16,
   "id": "a6b27b09-e55c-446a-9dbc-e253c1071e3a",
   "metadata": {},
   "outputs": [
    {
     "name": "stdout",
     "output_type": "stream",
     "text": [
      "ChromeDriver is located at: C:\\Users\\avishi\\.wdm\\drivers\\chromedriver\\win64\\141.0.7390.78\\chromedriver-win32/chromedriver.exe\n"
     ]
    }
   ],
   "source": [
    "from webdriver_manager.chrome import ChromeDriverManager\n",
    "\n",
    "path = ChromeDriverManager().install()\n",
    "print(\"ChromeDriver is located at:\", path)\n"
   ]
  },
  {
   "cell_type": "code",
   "execution_count": null,
   "id": "da615923-1289-4155-9ac7-06e55ae034e0",
   "metadata": {},
   "outputs": [],
   "source": [
    "#second method"
   ]
  },
  {
   "cell_type": "code",
   "execution_count": 27,
   "id": "e09706ad-a13a-4177-8f98-119d0726e884",
   "metadata": {},
   "outputs": [],
   "source": [
    "service = Service('C:/Users/avishi/.wdm/drivers/chromedriver/win64/141.0.7390.78/chromedriver-win32/chromedriver.exe')\n",
    "driver = webdriver.Chrome(service=service)\n",
    "#open the web page \n",
    "driver.get(\"https://www.instagram.com\")\n",
    "#selenium does not accept the driver path as a plain string anymore in new versions, so service is used "
   ]
  },
  {
   "cell_type": "code",
   "execution_count": null,
   "id": "d13df754-e08e-4864-9dcb-4d3b63b65bee",
   "metadata": {},
   "outputs": [],
   "source": [
    "#created with inspect cell"
   ]
  },
  {
   "cell_type": "code",
   "execution_count": 28,
   "id": "fcbeb29c-3b37-427c-a7fa-c57b336fa18f",
   "metadata": {},
   "outputs": [],
   "source": [
    "username = WebDriverWait(driver, 10).until(EC.element_to_be_clickable((By.CSS_SELECTOR, \"input[name='username']\")))\n",
    "password = WebDriverWait(driver, 10).until(EC.element_to_be_clickable((By.CSS_SELECTOR, \"input[name='password']\")))\n",
    "username.clear()\n",
    "username.send_keys(\"avishiagrawal_03\")\n",
    "password.clear()\n",
    "password.send_keys(\"Flower@03\")"
   ]
  },
  {
   "cell_type": "code",
   "execution_count": 29,
   "id": "eb67e71c-f834-436b-a68e-afbd5aaa3cf0",
   "metadata": {},
   "outputs": [],
   "source": [
    "login_button = WebDriverWait(driver, 10).until(\n",
    "    EC.element_to_be_clickable((By.XPATH, \"//*[text()='Log in']\"))\n",
    ").click()\n"
   ]
  },
  {
   "cell_type": "code",
   "execution_count": 31,
   "id": "b8a066b8-bb4f-4caa-84a7-4a015c19d508",
   "metadata": {},
   "outputs": [],
   "source": [
    "not_now = WebDnot_now = WebDriverWait(driver, 10).until(\n",
    "    EC.element_to_be_clickable((By.XPATH, \"//*[text()='Not now']\"))\n",
    ").click()"
   ]
  },
  {
   "cell_type": "code",
   "execution_count": 33,
   "id": "9bad878e-7975-44bf-92e1-f187d1f8a628",
   "metadata": {},
   "outputs": [],
   "source": [
    "searchbox = WebDriverWait(driver, 10).until(EC.element_to_be_clickable((By.XPATH, \"//input[@placeholder='Search']\")))\n",
    "searchbox.clear()\n",
    "\n",
    "#search for the hashtag cat\n",
    "keyword = \"#cat\"\n",
    "searchbox.send_keys(keyword)\n",
    "searchbox.send_keys(Keys.ENTER)"
   ]
  },
  {
   "cell_type": "code",
   "execution_count": null,
   "id": "8e69b8fd-94f5-420f-8e3d-cc54afc9d12c",
   "metadata": {},
   "outputs": [],
   "source": [
    "#number of images "
   ]
  },
  {
   "cell_type": "code",
   "execution_count": 36,
   "id": "4f998fc0-ee26-4e39-86e0-9f90b2b029ff",
   "metadata": {},
   "outputs": [
    {
     "name": "stdout",
     "output_type": "stream",
     "text": [
      "Found 28 images\n",
      "https://scontent.cdninstagram.com/v/t51.82787-15/527469112_17870543373410029_4734575719720370388_n.jpg?stp=dst-jpg_e35_tt6&_nc_cat=100&ig_cache_key=MzY5MTg2MjQ5NDA2NDY1NDAxNw%3D%3D.3-ccb1-7&ccb=1-7&_nc_sid=58cdad&efg=eyJ2ZW5jb2RlX3RhZyI6InhwaWRzLjcyN3g3MTkuc2RyLkMzIn0%3D&_nc_ohc=vmKK6ADVa4IQ7kNvwHvI1d4&_nc_oc=Adnl-w-bmryA3i69uiSwe7boQI00yQcxoPyvf86EMHEbz47Kdg1TUtLi64hasWzCAKM&_nc_ad=z-m&_nc_cid=0&_nc_zt=23&_nc_ht=scontent.cdninstagram.com&_nc_gid=PkCDYqBx-uNzVgd5fTvnlA&oh=00_Afe1NnbNnFHZbf6L0wO-YeFmruTLdd_9h68g3rdjxW3b8A&oe=68F64C4A\n",
      "https://scontent.cdninstagram.com/v/t51.82787-15/559905523_18023489441768746_3042054103407237268_n.webp?_nc_cat=107&ig_cache_key=MzczNTI1NDIzOTgzMzUyNDgwMg%3D%3D.3-ccb1-7&ccb=1-7&_nc_sid=58cdad&efg=eyJ2ZW5jb2RlX3RhZyI6InhwaWRzLjE0NDB4MTQ0MC5zZHIuQzMifQ%3D%3D&_nc_ohc=AST-WEmNfKIQ7kNvwGNkhPn&_nc_oc=Adl_PvWVXXg1D4fLZSwzokoT24ySejldma_ydElB7DXvwAcxyvRNtJooa-5fLosIZJQ&_nc_ad=z-m&_nc_cid=0&_nc_zt=23&_nc_ht=scontent.cdninstagram.com&_nc_gid=PkCDYqBx-uNzVgd5fTvnlA&oh=00_AfeT5Ba81tQ31RuObncl5wx0sc86DJF5O_Df7oDHndqcdA&oe=68F65A95\n",
      "https://scontent.cdninstagram.com/v/t51.82787-15/554866945_18291673834267346_1700476576233742837_n.webp?_nc_cat=107&ig_cache_key=MzczMjAwNzIxMjkwNzI5NTMzMg%3D%3D.3-ccb1-7&ccb=1-7&_nc_sid=58cdad&efg=eyJ2ZW5jb2RlX3RhZyI6InhwaWRzLjEwODB4MTQzNy5zZHIuQzMifQ%3D%3D&_nc_ohc=KdbsKbu88NEQ7kNvwFScdvl&_nc_oc=AdmSJUOI5iq5jH_erdUVgEk9UwrOYf8lzE4O0GCAmJW6xBBruFO3cMdVS1YcdSQv2xU&_nc_ad=z-m&_nc_cid=0&_nc_zt=23&_nc_ht=scontent.cdninstagram.com&_nc_gid=PkCDYqBx-uNzVgd5fTvnlA&oh=00_Afd9ugi8_5w7bbHEo7-fs3MwVrBoKca6BzGOnW5-vEjZ_w&oe=68F63282\n",
      "https://scontent.cdninstagram.com/v/t51.82787-15/560872687_17924106408152184_1948016918785213467_n.webp?_nc_cat=110&ig_cache_key=MzczOTQ0MTIxMDYyMDczMTMzMA%3D%3D.3-ccb1-7&ccb=1-7&_nc_sid=58cdad&efg=eyJ2ZW5jb2RlX3RhZyI6InhwaWRzLjEwODB4MTQ0MC5zZHIuQzMifQ%3D%3D&_nc_ohc=SmXcK7axsBkQ7kNvwEW9h9l&_nc_oc=AdkCmuhS8ruGt9urR7Jnp9F15wlMix_aSHEWZve1Rm3g5jsp5dwQrfHJi--iZiclfY0&_nc_ad=z-m&_nc_cid=0&_nc_zt=23&_nc_ht=scontent.cdninstagram.com&_nc_gid=PkCDYqBx-uNzVgd5fTvnlA&oh=00_AffedVIa7NQ1FDIgmknlVLlqtZLutJZHFP-Io7hw7Ocj3A&oe=68F63ED8\n",
      "https://instagram.fblr1-6.fna.fbcdn.net/v/t51.2885-15/550893980_18176422732350516_5037355131416610238_n.jpg?stp=dst-jpg_e15_tt6&efg=eyJ2ZW5jb2RlX3RhZyI6IkNBUk9VU0VMX0lURU0uaW1hZ2VfdXJsZ2VuLjcyMHg5NjAuc2RyLmY4Mjc4Ny5kZWZhdWx0X2NvdmVyX2ZyYW1lLmMyIn0&_nc_ht=instagram.fblr1-6.fna.fbcdn.net&_nc_cat=100&_nc_oc=Q6cZ2QGgQLNY7ZTvYNM-W1zEvDZMMfTfAmsMyHn7IY_7ZFnrES4hGsKkQWmSHnF05cPK1jw&_nc_ohc=MexA6r_T_WcQ7kNvwEm76r3&_nc_gid=PkCDYqBx-uNzVgd5fTvnlA&edm=AFlAz-oBAAAA&ccb=7-5&ig_cache_key=MzcyNjM1MDM3NzUyNDY2MDk2Nw%3D%3D.3-ccb7-5&oh=00_Afd7VyJhl5cs8HWoUIlmkBSdtT00x8CHcacL7aNsOXNotQ&oe=68F6505C&_nc_sid=76c0fc\n",
      "https://scontent.cdninstagram.com/v/t51.82787-15/559123867_17923883559113100_2324062324856833992_n.jpg?stp=dst-jpg_e35_tt6&_nc_cat=100&ig_cache_key=MzczNTQyNjAyNDkxMDcwOTgwNA%3D%3D.3-ccb1-7&ccb=1-7&_nc_sid=58cdad&efg=eyJ2ZW5jb2RlX3RhZyI6InhwaWRzLjc1MHg3NTAuc2RyLkMzIn0%3D&_nc_ohc=CKJg5QuWfBIQ7kNvwGWEAGH&_nc_oc=Adl-CR3abr5DAcdk2BMGl0sMV3I1vuUmPzE1x4tmsPgHsgGzXCn0WUIkL_LDyskqsSA&_nc_ad=z-m&_nc_cid=0&_nc_zt=23&_nc_ht=scontent.cdninstagram.com&_nc_gid=PkCDYqBx-uNzVgd5fTvnlA&oh=00_Aff6xOGfSl95PSOq90hArjIW91kZgapPlrMw6MtKC5VtZw&oe=68F631FA\n",
      "https://instagram.fblr1-8.fna.fbcdn.net/v/t51.2885-15/548832981_17979975350877265_6651353036348790774_n.jpg?stp=dst-jpg_e15_tt6&efg=eyJ2ZW5jb2RlX3RhZyI6IkNBUk9VU0VMX0lURU0uaW1hZ2VfdXJsZ2VuLjcyMHg5NjAuc2RyLmY4Mjc4Ny5kZWZhdWx0X2NvdmVyX2ZyYW1lLmMyIn0&_nc_ht=instagram.fblr1-8.fna.fbcdn.net&_nc_cat=101&_nc_oc=Q6cZ2QGgQLNY7ZTvYNM-W1zEvDZMMfTfAmsMyHn7IY_7ZFnrES4hGsKkQWmSHnF05cPK1jw&_nc_ohc=wzj5cZOlegwQ7kNvwHPZNg8&_nc_gid=PkCDYqBx-uNzVgd5fTvnlA&edm=AFlAz-oBAAAA&ccb=7-5&ig_cache_key=MzcyMjYxMTMyODMxNDYxMjMxMQ%3D%3D.3-ccb7-5&oh=00_AfeaJZ06G_avb5xXS5RLNa-XnZDNwQdOB4LcljSQ3SZAiw&oe=68F6518D&_nc_sid=76c0fc\n",
      "https://instagram.fblr1-5.fna.fbcdn.net/v/t51.2885-15/541128439_18160704739375271_3692470611700154841_n.jpg?stp=dst-jpg_e15_tt6&efg=eyJ2ZW5jb2RlX3RhZyI6IkNBUk9VU0VMX0lURU0uaW1hZ2VfdXJsZ2VuLjcyMHg5NjAuc2RyLmY4Mjc4Ny5kZWZhdWx0X2NvdmVyX2ZyYW1lLmMyIn0&_nc_ht=instagram.fblr1-5.fna.fbcdn.net&_nc_cat=111&_nc_oc=Q6cZ2QGgQLNY7ZTvYNM-W1zEvDZMMfTfAmsMyHn7IY_7ZFnrES4hGsKkQWmSHnF05cPK1jw&_nc_ohc=6Wo0WMn_SX4Q7kNvwFjj_VD&_nc_gid=PkCDYqBx-uNzVgd5fTvnlA&edm=AFlAz-oBAAAA&ccb=7-5&ig_cache_key=MzcwODUzMDcwMDM1NTM5NjcxMQ%3D%3D.3-ccb7-5&oh=00_Afd9AI2lfYjk3FbbL34F2_u6APtPxOauQP_1J_l9juBlRw&oe=68F63BAA&_nc_sid=76c0fc\n",
      "https://instagram.fblr1-10.fna.fbcdn.net/v/t51.2885-15/556408340_17852900607548373_162418929553297343_n.jpg?stp=dst-jpg_e15_tt6&efg=eyJ2ZW5jb2RlX3RhZyI6IkNBUk9VU0VMX0lURU0uaW1hZ2VfdXJsZ2VuLjcyMHg5MDAuc2RyLmY4Mjc4Ny5kZWZhdWx0X2NvdmVyX2ZyYW1lLmMyIn0&_nc_ht=instagram.fblr1-10.fna.fbcdn.net&_nc_cat=109&_nc_oc=Q6cZ2QGgQLNY7ZTvYNM-W1zEvDZMMfTfAmsMyHn7IY_7ZFnrES4hGsKkQWmSHnF05cPK1jw&_nc_ohc=tO2RCpU2Db0Q7kNvwHtn17f&_nc_gid=PkCDYqBx-uNzVgd5fTvnlA&edm=AFlAz-oBAAAA&ccb=7-5&ig_cache_key=MzczMDgyODc5NDA3NDAxMjcwMg%3D%3D.3-ccb7-5&oh=00_Aff-7z7Z_QX_UNrSRJlDqz9SNLVeJIA9jZ9CFnzuMz_-eg&oe=68F63526&_nc_sid=76c0fc\n",
      "https://scontent.cdninstagram.com/v/t51.82787-15/553800772_18089966212885537_413826942499873916_n.jpg?stp=dst-jpg_e35_tt6&_nc_cat=1&ig_cache_key=MzcyOTYyMDAwMDM2NjY3NTAwMw%3D%3D.3-ccb1-7&ccb=1-7&_nc_sid=58cdad&efg=eyJ2ZW5jb2RlX3RhZyI6InhwaWRzLjY0MHg2NDAuc2RyLkMzIn0%3D&_nc_ohc=NirWDiACP38Q7kNvwFEN6Q4&_nc_oc=AdkijZQMIXwcrCA1AtQZyR5VP377V99dgetQ8KQDQBqBhF0KDLsL1HGb_xt_RYsYDbg&_nc_ad=z-m&_nc_cid=0&_nc_zt=23&_nc_ht=scontent.cdninstagram.com&_nc_gid=PkCDYqBx-uNzVgd5fTvnlA&oh=00_AfeEHS71OAw0CZwnEdXo_4sULk1jlyzvsnznTWau9f2axQ&oe=68F64C69\n",
      "https://instagram.fblr1-10.fna.fbcdn.net/v/t51.2885-15/562051278_18538621498055469_2349114534912704290_n.jpg?stp=dst-jpg_e15_tt6&efg=eyJ2ZW5jb2RlX3RhZyI6IkNBUk9VU0VMX0lURU0uaW1hZ2VfdXJsZ2VuLjcyMHg5NjAuc2RyLmY4Mjc4Ny5kZWZhdWx0X2NvdmVyX2ZyYW1lLmMyIn0&_nc_ht=instagram.fblr1-10.fna.fbcdn.net&_nc_cat=109&_nc_oc=Q6cZ2QGgQLNY7ZTvYNM-W1zEvDZMMfTfAmsMyHn7IY_7ZFnrES4hGsKkQWmSHnF05cPK1jw&_nc_ohc=rfyaDenjBQEQ7kNvwG43mQY&_nc_gid=PkCDYqBx-uNzVgd5fTvnlA&edm=AFlAz-oBAAAA&ccb=7-5&ig_cache_key=MzczOTk5NDIwODMwNTU3Nzk2Mw%3D%3D.3-ccb7-5&oh=00_AffxxOMyNeRmJuQCa3x6g9ob-WoXQsb4Mi5ULkEAMzrVEw&oe=68F63F28&_nc_sid=76c0fc\n",
      "https://instagram.fblr1-7.fna.fbcdn.net/v/t51.2885-15/551066091_17983677917890054_775263541189134416_n.jpg?stp=dst-jpg_e15_tt6&efg=eyJ2ZW5jb2RlX3RhZyI6IkNBUk9VU0VMX0lURU0uaW1hZ2VfdXJsZ2VuLjcyMHg5NjAuc2RyLmY4Mjc4Ny5kZWZhdWx0X2NvdmVyX2ZyYW1lLmMyIn0&_nc_ht=instagram.fblr1-7.fna.fbcdn.net&_nc_cat=110&_nc_oc=Q6cZ2QGgQLNY7ZTvYNM-W1zEvDZMMfTfAmsMyHn7IY_7ZFnrES4hGsKkQWmSHnF05cPK1jw&_nc_ohc=4o6hwnG7oXUQ7kNvwE35_0L&_nc_gid=PkCDYqBx-uNzVgd5fTvnlA&edm=AFlAz-oBAAAA&ccb=7-5&ig_cache_key=MzcyNDkxNDc3ODUxNjExNTA5Nw%3D%3D.3-ccb7-5&oh=00_Afd2MzHpaRa7WJurwQOx7rB40xltFSDIePtP3aE_2pH_Ug&oe=68F654DB&_nc_sid=76c0fc\n",
      "https://scontent.cdninstagram.com/v/t51.82787-15/551479980_18370872463194451_5889551085177212893_n.jpg?stp=dst-jpg_e15_tt6&_nc_cat=105&ig_cache_key=MzcyNjI1OTg3ODU1NTEzMjgzNQ%3D%3D.3-ccb1-7&ccb=1-7&_nc_sid=58cdad&efg=eyJ2ZW5jb2RlX3RhZyI6InhwaWRzLjcyMHg5NjAuc2RyLkMzIn0%3D&_nc_ohc=TMGhoDV-CukQ7kNvwGrqgnO&_nc_oc=AdmMoD-d9TTd6PhCUQIYBW8dS_qel_XbyDCRTYgNKKyiBS41v6B3EwPuMTs7PBWgk98&_nc_ad=z-m&_nc_cid=0&_nc_zt=23&_nc_ht=scontent.cdninstagram.com&_nc_gid=PkCDYqBx-uNzVgd5fTvnlA&oh=00_AfekdTqOpa1cgQq46RRuOkPYtAoKP5SO_1BsW3k9WVq1RQ&oe=68F64032\n",
      "https://instagram.fblr1-4.fna.fbcdn.net/v/t51.2885-15/558048385_18529189315026032_4171686021205147690_n.jpg?stp=dst-jpg_e15_tt6&efg=eyJ2ZW5jb2RlX3RhZyI6IkNBUk9VU0VMX0lURU0uaW1hZ2VfdXJsZ2VuLjcyMHg5MDAuc2RyLmY4Mjc4Ny5kZWZhdWx0X2NvdmVyX2ZyYW1lLmMyIn0&_nc_ht=instagram.fblr1-4.fna.fbcdn.net&_nc_cat=108&_nc_oc=Q6cZ2QGgQLNY7ZTvYNM-W1zEvDZMMfTfAmsMyHn7IY_7ZFnrES4hGsKkQWmSHnF05cPK1jw&_nc_ohc=w_6JQmOwUFwQ7kNvwHh9hFG&_nc_gid=PkCDYqBx-uNzVgd5fTvnlA&edm=AFlAz-oBAAAA&ccb=7-5&ig_cache_key=MzczNTQ5NjI1NjM0MTcwODU0Nw%3D%3D.3-ccb7-5&oh=00_AffQpYf2VM5ni7hEcl3QM2NrnJfi0bE37VR_84440CakKA&oe=68F63AE3&_nc_sid=76c0fc\n",
      "https://scontent.cdninstagram.com/v/t51.82787-15/543784928_17911721463197500_6696453875777853615_n.jpg?stp=dst-jpg_e35_tt6&_nc_cat=107&ig_cache_key=MzcxODE3MzI5MzcxMjM3ODIxOA%3D%3D.3-ccb1-7&ccb=1-7&_nc_sid=58cdad&efg=eyJ2ZW5jb2RlX3RhZyI6InhwaWRzLjE0NDB4MTkyMC5zZHIuQzMifQ%3D%3D&_nc_ohc=_L01asu4I_wQ7kNvwF56HKw&_nc_oc=Adkhyls5WyF_MDOIS5qQmfXRXryrGDfMX12TRKvzuob7oOX2JJc5YAa3A_qG0mPeDF0&_nc_ad=z-m&_nc_cid=0&_nc_zt=23&_nc_ht=scontent.cdninstagram.com&_nc_gid=PkCDYqBx-uNzVgd5fTvnlA&oh=00_AfcLB-xoDr_Qe633oc8_52DGo5UlofBHJvWxy3wWE-UZ2g&oe=68F64E6F\n",
      "https://scontent.cdninstagram.com/v/t51.82787-15/524824602_18076158803311076_3558848257006978206_n.jpg?stp=dst-jpg_e35_tt6&_nc_cat=101&ig_cache_key=MzY4NDU1MDU2NjYzOTM2OTY4OA%3D%3D.3-ccb1-7&ccb=1-7&_nc_sid=58cdad&efg=eyJ2ZW5jb2RlX3RhZyI6InhwaWRzLjEwNzJ4MTA2NS5zZHIuQzMifQ%3D%3D&_nc_ohc=tYEO2QY7Zc0Q7kNvwFOPeMT&_nc_oc=AdmfcCSxq6vRDcn8YPpixiLq5KKqDFXBO7fm_R4NpgVuYIY1LrGNxqApqjpoR1tdItA&_nc_ad=z-m&_nc_cid=0&_nc_zt=23&_nc_ht=scontent.cdninstagram.com&_nc_gid=PkCDYqBx-uNzVgd5fTvnlA&oh=00_AfdeknEUEE9SPNQMscvOZXlXmUfXb4ylTivt8n3rT57hiQ&oe=68F63316\n",
      "https://scontent.cdninstagram.com/v/t51.82787-15/561174015_18325459630233471_5309300159922981250_n.webp?_nc_cat=100&ig_cache_key=MzczNzY1NDEzNzY5NDQ3MDEyMg%3D%3D.3-ccb1-7&ccb=1-7&_nc_sid=58cdad&efg=eyJ2ZW5jb2RlX3RhZyI6InhwaWRzLjE0NDB4MTc4MC5zZHIuQzMifQ%3D%3D&_nc_ohc=2YAwCfzl_XsQ7kNvwH7_63f&_nc_oc=AdlcY_HlynC6ZHzggDXYg7Npranz-bzgzhbQwcffqasH0Pow3sa57H6iKIKF8ZTLb8o&_nc_ad=z-m&_nc_cid=0&_nc_zt=23&_nc_ht=scontent.cdninstagram.com&_nc_gid=PkCDYqBx-uNzVgd5fTvnlA&oh=00_Afer6Kn3fe01pjpllnV_IOn9mOsOM4gT4Ct-fq-oQaeDjw&oe=68F65A89\n",
      "https://scontent.cdninstagram.com/v/t51.82787-15/531026698_18035923946690053_7426155135968826794_n.jpg?stp=dst-jpg_e35_tt6&_nc_cat=109&ig_cache_key=MzY5NzgxODEyNjA0MTM1MjczMg%3D%3D.3-ccb1-7&ccb=1-7&_nc_sid=58cdad&efg=eyJ2ZW5jb2RlX3RhZyI6InhwaWRzLjEwODB4MTA4MC5zZHIuQzMifQ%3D%3D&_nc_ohc=USpCRxTxBjAQ7kNvwFkODcD&_nc_oc=AdmwiQBbqwKrEzOnSvxZhwbJRnP3WCqX72ShUt5BGZLN9p71PEQ2WNt_z_-bUlrwTGg&_nc_ad=z-m&_nc_cid=0&_nc_zt=23&_nc_ht=scontent.cdninstagram.com&_nc_gid=PkCDYqBx-uNzVgd5fTvnlA&oh=00_AffzGoxJWDMGOewCS51t5fgoXFuTcNGOPabO5ng5jJDCNQ&oe=68F64FB9\n",
      "https://scontent.cdninstagram.com/v/t51.82787-15/561411683_17982875039887989_4314620051710863834_n.jpg?stp=dst-jpg_e35_tt6&_nc_cat=103&ig_cache_key=MzczNjgwNDQxMDMxNjk0NzEzNQ%3D%3D.3-ccb1-7&ccb=1-7&_nc_sid=58cdad&efg=eyJ2ZW5jb2RlX3RhZyI6InhwaWRzLjExOTB4MTIxMC5zZHIuQzMifQ%3D%3D&_nc_ohc=UrjP5Y_73KIQ7kNvwFDmIrp&_nc_oc=Adn7df-PIv65D7Jtkyhwb5iH9IlK2sdLTbNNGe8BJf_PPedbOhDS-zfwqqSebaodYHo&_nc_ad=z-m&_nc_cid=0&_nc_zt=23&_nc_ht=scontent.cdninstagram.com&_nc_gid=PkCDYqBx-uNzVgd5fTvnlA&oh=00_Afd8-PbtHRRmPX37V8NFNy5WA13oIjbVFLmgnXk1CzzClw&oe=68F64E41\n",
      "https://scontent.cdninstagram.com/v/t51.82787-15/543061914_18284369722259790_5065515273240022256_n.jpg?stp=dst-jpg_e35_tt6&_nc_cat=107&ig_cache_key=MzcxNTE0MzQ4MjE4OTgyMTIxNQ%3D%3D.3-ccb1-7&ccb=1-7&_nc_sid=58cdad&efg=eyJ2ZW5jb2RlX3RhZyI6InhwaWRzLjcyMng3MDkuc2RyLkMzIn0%3D&_nc_ohc=3EMO2ZWBEscQ7kNvwEiOA5O&_nc_oc=AdkjLTEHK2Kg62E-VixVf9WENLf6RQ484Z7sg9SyokEO359hUJy-GIloMX6WYffasIY&_nc_ad=z-m&_nc_cid=0&_nc_zt=23&_nc_ht=scontent.cdninstagram.com&_nc_gid=PkCDYqBx-uNzVgd5fTvnlA&oh=00_Afca2hpGA-ilzhUNcvYE0tC-QA4l-HGgxkFLdpt5C1XQlA&oe=68F65767\n",
      "https://scontent.cdninstagram.com/v/t51.82787-15/549891252_17980611632910374_3213601924467677952_n.webp?_nc_cat=108&ig_cache_key=MzcyMzg0NzI2MjE5Njc2OTYxMQ%3D%3D.3-ccb1-7&ccb=1-7&_nc_sid=58cdad&efg=eyJ2ZW5jb2RlX3RhZyI6InhwaWRzLjEwODB4MTA4MC5zZHIuQzMifQ%3D%3D&_nc_ohc=ITGYz0dFMQEQ7kNvwFD7Kig&_nc_oc=Adl2q_c8QO2Tet13PyYUcqe8RmcBpv_a4gg8Aw4EG7xaLyekxdGOD6sSlKxGCdmQ7as&_nc_ad=z-m&_nc_cid=0&_nc_zt=23&_nc_ht=scontent.cdninstagram.com&_nc_gid=PkCDYqBx-uNzVgd5fTvnlA&oh=00_AfevaqPbthzrhMdBjGNiET3uEvgGqIKR4t_GW_swShrXYg&oe=68F64704\n",
      "https://scontent.cdninstagram.com/v/t51.82787-15/552817163_18527650717006981_463774724918304030_n.jpg?stp=dst-jpg_e35_tt6&_nc_cat=104&ig_cache_key=MzcyODczNjY0NzM1NDI2MDMxNg%3D%3D.3-ccb1-7&ccb=1-7&_nc_sid=58cdad&efg=eyJ2ZW5jb2RlX3RhZyI6InhwaWRzLjE0NDB4MTc3MS5zZHIuQzMifQ%3D%3D&_nc_ohc=C9gactSkQaIQ7kNvwGY3t0p&_nc_oc=AdmSo6BZ-VOtV_RVRWRXbaVEBq-xoI1-h5OtI3cVSh-AdqdW19d9jZdYfq6JrnIpFug&_nc_ad=z-m&_nc_cid=0&_nc_zt=23&_nc_ht=scontent.cdninstagram.com&_nc_gid=PkCDYqBx-uNzVgd5fTvnlA&oh=00_Afc7pRFReT5hB7M8n3KxGwjubMmHhFw2jbFBO-uYzL7YqQ&oe=68F655BD\n",
      "https://instagram.fblr1-5.fna.fbcdn.net/v/t51.2885-15/557911763_18164989534375271_5921369645426895684_n.jpg?stp=dst-jpg_e15_tt6&efg=eyJ2ZW5jb2RlX3RhZyI6IkNBUk9VU0VMX0lURU0uaW1hZ2VfdXJsZ2VuLjcyMHg5NjAuc2RyLmY4Mjc4Ny5kZWZhdWx0X2NvdmVyX2ZyYW1lLmMyIn0&_nc_ht=instagram.fblr1-5.fna.fbcdn.net&_nc_cat=111&_nc_oc=Q6cZ2QGgQLNY7ZTvYNM-W1zEvDZMMfTfAmsMyHn7IY_7ZFnrES4hGsKkQWmSHnF05cPK1jw&_nc_ohc=PsWhCKSY53UQ7kNvwGZhlfw&_nc_gid=PkCDYqBx-uNzVgd5fTvnlA&edm=AFlAz-oBAAAA&ccb=7-5&ig_cache_key=MzczNTQzNzg0MjI5NDgxMzkxNQ%3D%3D.3-ccb7-5&oh=00_Afe0zRKbipYXGyyDNZMOkgjPcw7wgbBCJwIuNM_cBJXUGQ&oe=68F62FBB&_nc_sid=76c0fc\n",
      "https://instagram.fblr1-6.fna.fbcdn.net/v/t51.2885-15/554825375_18177030817350516_8478312764752710771_n.jpg?stp=dst-jpg_e15_tt6&efg=eyJ2ZW5jb2RlX3RhZyI6IkNBUk9VU0VMX0lURU0uaW1hZ2VfdXJsZ2VuLjcyMHg5NjAuc2RyLmY4Mjc4Ny5kZWZhdWx0X2NvdmVyX2ZyYW1lLmMyIn0&_nc_ht=instagram.fblr1-6.fna.fbcdn.net&_nc_cat=100&_nc_oc=Q6cZ2QGgQLNY7ZTvYNM-W1zEvDZMMfTfAmsMyHn7IY_7ZFnrES4hGsKkQWmSHnF05cPK1jw&_nc_ohc=Moscyvw_RvkQ7kNvwFfSWJv&_nc_gid=PkCDYqBx-uNzVgd5fTvnlA&edm=AFlAz-oBAAAA&ccb=7-5&ig_cache_key=MzczMDAyNjU1NjM1ODE5NjI1Nw%3D%3D.3-ccb7-5&oh=00_AffsMXS30IlHAt4JeaX35BKoTJHbQjy7Gs9CrtMF-UgV1w&oe=68F65090&_nc_sid=76c0fc\n",
      "https://instagram.fblr1-5.fna.fbcdn.net/v/t51.2885-19/555557736_18059667929611983_3117757198376330586_n.jpg?stp=dst-jpg_s150x150_tt6&efg=eyJ2ZW5jb2RlX3RhZyI6InByb2ZpbGVfcGljLmRqYW5nby4xMDgwLmMyIn0&_nc_ht=instagram.fblr1-5.fna.fbcdn.net&_nc_cat=103&_nc_oc=Q6cZ2QGiKFPlXNDdco7zRYkR63OuIXKmOr3AYfVzl6OuegymrIraCD0cGE6_ejhpJylIs3s&_nc_ohc=5YcU1fUIpyAQ7kNvwHboOGd&_nc_gid=nnp37MYjwqv26Bdoz6k91g&edm=APs17CUBAAAA&ccb=7-5&oh=00_AfeRYxGoAK-AYnbkKgE5wSdRDpSjDsAOJPzzgIT0MSXBgQ&oe=68F62A76&_nc_sid=10d13b\n",
      "https://scontent.fblr1-6.fna.fbcdn.net/v/t1.15752-9/437129288_951595856625894_7308867353505491760_n.jpg?stp=dst-jpg_s100x100_tt6&_nc_cat=102&ccb=1-7&_nc_sid=ec592c&_nc_ohc=8JwQlSun1EsQ7kNvwHP0r_9&_nc_oc=Adn-JPpyIGHSs3BKxhtWgja5DnkC0qClGAaql1idQ-fxX-RC5UnbQdtywxmacMIi4Ww&_nc_zt=23&_nc_ht=scontent.fblr1-6.fna&oh=03_Q7cD3gGwLGpf3_fOPdm68-ddRcCl-xkZWznIrfuZE1Rf14lH4Q&oe=6917ED17\n",
      "https://scontent.cdninstagram.com/v/t51.82787-19/533472521_18173593465346929_4037490846978452986_n.jpg?stp=dst-jpg_s150x150_tt6&_nc_cat=107&ccb=7-5&_nc_sid=f7ccc5&efg=eyJ2ZW5jb2RlX3RhZyI6InByb2ZpbGVfcGljLnd3dy4xMDgwLkMzIn0%3D&_nc_ohc=nSJwkBR25S0Q7kNvwEkBE_3&_nc_oc=AdmfHrNJXO0thmLziCdz8YGpE4MowvLVsWb-3Md0M4leqvf-sovaANw8yBCXs_6ejcE&_nc_ad=z-m&_nc_cid=0&_nc_zt=24&_nc_ht=scontent.cdninstagram.com&_nc_gid=g2d1pTgNgu0-56LmeNOScQ&oh=00_AfetTsBQYafimogQ4cFuMpIVa7f0faUIXLX5xBDQda2GFQ&oe=68F62D22\n",
      "https://scontent.cdninstagram.com/v/t51.2885-19/481027827_1815867712588284_7223471676964202936_n.jpg?stp=dst-jpg_s150x150_tt6&_nc_cat=107&ccb=7-5&_nc_sid=f7ccc5&efg=eyJ2ZW5jb2RlX3RhZyI6InByb2ZpbGVfcGljLnd3dy44ODIuQzMifQ%3D%3D&_nc_ohc=qm5cJ-NP3v0Q7kNvwGPVFse&_nc_oc=AdmRdc33fwVk7namiQKFv8muKQZddgDp5IA0jYib8R183xSRVQK7TgYgd9SoD5QhZB4&_nc_ad=z-m&_nc_cid=0&_nc_zt=24&_nc_ht=scontent.cdninstagram.com&oh=00_AfcM6YjskJktrR0MCy4ehEh83R2vkDMd9z9FedHQG03V_g&oe=68F62E8C\n"
     ]
    }
   ],
   "source": [
    "driver.execute_script(\"window.scrollTo(0, 4000);\")\n",
    "\n",
    "images = driver.find_elements(By.TAG_NAME, 'img')\n",
    "print(f\"Found {len(images)} images\")\n",
    "\n",
    "for img in images:\n",
    "    print(img.get_attribute(\"src\"))"
   ]
  },
  {
   "cell_type": "code",
   "execution_count": null,
   "id": "4e5ecc63-20e0-4bd3-b189-a180a077fe1b",
   "metadata": {},
   "outputs": [],
   "source": [
    "#path "
   ]
  },
  {
   "cell_type": "code",
   "execution_count": 37,
   "id": "aede9be1-198a-468e-9ebf-e287a30b1490",
   "metadata": {},
   "outputs": [
    {
     "data": {
      "text/plain": [
       "'C:\\\\Users\\\\avishi\\\\cats'"
      ]
     },
     "execution_count": 37,
     "metadata": {},
     "output_type": "execute_result"
    }
   ],
   "source": [
    "path = os.getcwd()\n",
    "path = os.path.join(path, keyword[1:] + \"s\")\n",
    "\n",
    "#create the directory\n",
    "os.mkdir(path)\n",
    "\n",
    "path"
   ]
  },
  {
   "cell_type": "code",
   "execution_count": 39,
   "id": "d74dbf9b-73c6-43a7-8f79-6463bfcc93ee",
   "metadata": {},
   "outputs": [
    {
     "name": "stdout",
     "output_type": "stream",
     "text": [
      "100% [................................................................................] 3908 / 3908"
     ]
    }
   ],
   "source": [
    "seen = set()\n",
    "counter = 0\n",
    "\n",
    "for image in images:\n",
    "    image_url = image.get_attribute('src')\n",
    "    if image_url and image_url not in seen:\n",
    "        seen.add(image_url)\n",
    "        save_as = os.path.join(path, f\"{keyword[1:]}_{counter}.jpg\")\n",
    "        wget.download(image_url, save_as)\n",
    "        counter += 1\n"
   ]
  }
 ],
 "metadata": {
  "kernelspec": {
   "display_name": "Python 3 (ipykernel)",
   "language": "python",
   "name": "python3"
  },
  "language_info": {
   "codemirror_mode": {
    "name": "ipython",
    "version": 3
   },
   "file_extension": ".py",
   "mimetype": "text/x-python",
   "name": "python",
   "nbconvert_exporter": "python",
   "pygments_lexer": "ipython3",
   "version": "3.12.10"
  }
 },
 "nbformat": 4,
 "nbformat_minor": 5
}
